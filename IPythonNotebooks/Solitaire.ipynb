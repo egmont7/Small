{
 "metadata": {
  "celltoolbar": "Slideshow",
  "name": "",
  "signature": "sha256:b87db296a51c1da0271455549ef4009f3def5f3844984b41cccfb0c0b8d2b1ce"
 },
 "nbformat": 3,
 "nbformat_minor": 0,
 "worksheets": [
  {
   "cells": [
    {
     "cell_type": "heading",
     "level": 1,
     "metadata": {
      "slideshow": {
       "slide_type": "slide"
      }
     },
     "source": [
      "Solitaire - Deck of Cards Based Strong Encryption"
     ]
    },
    {
     "cell_type": "heading",
     "level": 3,
     "metadata": {
      "slideshow": {
       "slide_type": "slide"
      }
     },
     "source": [
      "Introduction"
     ]
    },
    {
     "cell_type": "markdown",
     "metadata": {
      "slideshow": {
       "slide_type": "subslide"
      }
     },
     "source": [
      "This is an implementation of the Solitaire(aka. Pontifex) encryption system found in the novel *Cryptonomicon* written by Neal Stephensen. This cryptosystem was invented by Bruce Schneier, and this implementation is based on his description found in an appendix of the afformentioned novel. \n",
      "\n",
      "Solitaire is intended to use a standard deck of playing cards to generate a sequence of pseudo-random numbers that are moduarly added to the message to create the cyphertext. The receiver of the message can then moduarly subtract the same sequence from the cyphertext to recover the message, provided that the receiver has their deck in the same initial configuration as the sender. This initial configuration is the shared secret. \n",
      "\n",
      "Individual cards can be mapped to the numbers 1-52 in any way that is convenient. In Schneier's description, he suggests using the bridge ordering of suites(clubs, hearts, diamonds, spades) so that, for example, the ace of clubes is 1, the deuce of diamonds is 28, and so on. Whenever needed, the two jokers are both interpreted as 53. Also, the jokers must be somehow distinguishable. One of them will be referred to as joker 'A', the other as joker 'B'.\n",
      "\n",
      "***\n",
      "\n",
      "The steps to generate the keystream of pseudo-random numbers are as follows:\n",
      "1. Find joker A. Move it one card down. If it is at the bottom of the deck, place it beneath the top card.\n",
      "2. Find joker B. Move it two cards down. Again, if B is at the bottom of the deck, wrap around to the top. A and B should never be the top cards.\n",
      "3. Do a triple cut of the deck based on the locations of the two jokers. For example, if the deck looks like\n",
      "```\n",
      "[Top cards]A[Middle cards]B[Bottom cards]\n",
      "```\n",
      "swap the top cards and bottom cards to make it look like:\n",
      "```\n",
      "[Bottom cards]A[Middle cards]B[Top cards]\n",
      "```\n",
      "If joker B happens to be nearer to the top, just swap A and B in the above diagram.\n",
      "4. Look at the card on the bottom of the deck. Convert that card to a number and call it n. Now perform a cut after the top n cards, leaving the bottom card at the bottom. For example, if the deck looks like\n",
      "```\n",
      "[Top n cards][Remainder of deck][Bottom card]\n",
      "```\n",
      "Then after the cut it should look like\n",
      "```\n",
      "[Remainder of deck][Top n cards][Bottom card]\n",
      "```\n",
      "5. Convert the top card to a number, and look at the card at that position in the deck. Convert that card to a number. This number is your output key. If the card happens to be a joker, sorry, start again from step 1. Note that the deck is unchanged by this step.\n",
      "6. **Repeat** steps 1-5 to generate as many keys as needed."
     ]
    },
    {
     "cell_type": "code",
     "collapsed": false,
     "input": [
      "import random\n",
      "from random import shuffle\n",
      "#random.seed(0) #enable for testing"
     ],
     "language": "python",
     "metadata": {
      "slideshow": {
       "slide_type": "slide"
      }
     },
     "outputs": [],
     "prompt_number": 1
    },
    {
     "cell_type": "code",
     "collapsed": false,
     "input": [
      "def keystream(deck):\n",
      "    deck = deck[:] #make local copy of deck\n",
      "    while True:\n",
      "        #step 1:\n",
      "        iA = deck.index('A')\n",
      "        deck.pop(iA)\n",
      "        iA = iA\n",
      "        if iA == 53:\n",
      "            iA = 1\n",
      "        else:\n",
      "            iA = iA+1\n",
      "        deck.insert(iA,'A')\n",
      "        #step 2\n",
      "        iB = deck.index('B')\n",
      "        deck.pop(iB)\n",
      "        if iB == 53:\n",
      "            iB = 2\n",
      "        elif iB == 52:\n",
      "            iB = 1\n",
      "        else:\n",
      "            iB = iB + 2\n",
      "        deck.insert(iB,'B')\n",
      "        #step 3\n",
      "        i1 = min(iA, iB)\n",
      "        i2 = max(iA, iB)\n",
      "        deck = deck[i2+1:] + deck[i1:i2+1] + deck[:i1]\n",
      "        #step 4\n",
      "        bottom = deck[-1]\n",
      "        n = bottom if type(bottom) is int else 53\n",
      "        deck = deck[n:-1] + deck[:n] + [bottom,]\n",
      "        #step 5\n",
      "        n = deck[0] if type(deck[0]) is int else 53\n",
      "        out = deck[n-1]\n",
      "        if type(out) is int:\n",
      "            yield out+1"
     ],
     "language": "python",
     "metadata": {
      "slideshow": {
       "slide_type": "slide"
      }
     },
     "outputs": [],
     "prompt_number": 2
    },
    {
     "cell_type": "markdown",
     "metadata": {
      "slideshow": {
       "slide_type": "slide"
      }
     },
     "source": [
      "To encode or decode the messages, just convert the input python strings to their appropriate numbers sequences eg. (```'aab'``` becomes ```0,0,1```). Then either add or subtract the number from the keystream."
     ]
    },
    {
     "cell_type": "code",
     "collapsed": false,
     "input": [
      "def encode(message, deck):\n",
      "    ks = keystream(deck)\n",
      "    cypher = []\n",
      "    if type(message) is str:\n",
      "        message = message.lower().encode('ascii')\n",
      "    for l in message:\n",
      "        x = next(ks)\n",
      "        cypher.append((l - 97 + x) % 26 + 97)\n",
      "    cypher = bytes(cypher).decode('ascii')\n",
      "    return cypher\n",
      "\n",
      "def decode(cypher, deck):\n",
      "    ks = keystream(deck)\n",
      "    message = []\n",
      "    if type(cypher) is str:\n",
      "        cypher = cypher.lower().encode('ascii')\n",
      "    for l in cypher:\n",
      "        message.append((l - 97 - next(ks)) % 26 + 97)\n",
      "    message = bytes(message).decode('ascii')\n",
      "    return message\n",
      "    "
     ],
     "language": "python",
     "metadata": {
      "slideshow": {
       "slide_type": "subslide"
      }
     },
     "outputs": [],
     "prompt_number": 3
    },
    {
     "cell_type": "markdown",
     "metadata": {
      "slideshow": {
       "slide_type": "slide"
      }
     },
     "source": [
      "Prepare the deck"
     ]
    },
    {
     "cell_type": "code",
     "collapsed": false,
     "input": [
      "deck = []\n",
      "for i in range(52):\n",
      "    deck.append(i+1)\n",
      "deck.extend(['A','B'])\n",
      "shuffle(deck)"
     ],
     "language": "python",
     "metadata": {
      "slideshow": {
       "slide_type": "fragment"
      }
     },
     "outputs": [],
     "prompt_number": 4
    },
    {
     "cell_type": "markdown",
     "metadata": {
      "slideshow": {
       "slide_type": "fragment"
      }
     },
     "source": [
      "Let's have a look at some sample output from the keystream"
     ]
    },
    {
     "cell_type": "code",
     "collapsed": false,
     "input": [
      "ks = keystream(deck)\n",
      "keys = [next(ks) for _ in range(20)]\n",
      "print(keys)"
     ],
     "language": "python",
     "metadata": {
      "slideshow": {
       "slide_type": "fragment"
      }
     },
     "outputs": [
      {
       "output_type": "stream",
       "stream": "stdout",
       "text": [
        "[2, 39, 20, 40, 48, 50, 33, 45, 45, 30, 38, 41, 7, 20, 13, 23, 8, 9, 25, 13]\n"
       ]
      }
     ],
     "prompt_number": 5
    },
    {
     "cell_type": "markdown",
     "metadata": {
      "slideshow": {
       "slide_type": "slide"
      }
     },
     "source": [
      "Now encrypt a short message and look at the cyphertext and the decrypt. Note that the message can only contain lowercase letters. No numbers, no spaces, no punctuation. "
     ]
    },
    {
     "cell_type": "code",
     "collapsed": false,
     "input": [
      "message = 'thisisasecretmessagestoppleasedonttellanyonestop'\n",
      "print('message:    ' + message)\n",
      "cyphertext = encode(message, deck)\n",
      "print('cyphertext: ' + cyphertext)\n",
      "decrypt = decode(cyphertext, deck)\n",
      "print('decrypt:    ' + decrypt)    "
     ],
     "language": "python",
     "metadata": {
      "slideshow": {
       "slide_type": "subslide"
      }
     },
     "outputs": [
      {
       "output_type": "stream",
       "stream": "stdout",
       "text": [
        "message:    thisisasecretmessagestoppleasedonttellanyonestop\n",
        "cyphertext: vucgeqhlxgdtagrpajfrctiphjufckhapvdympkexlptwqcy\n",
        "decrypt:    thisisasecretmessagestoppleasedonttellanyonestop\n"
       ]
      }
     ],
     "prompt_number": 6
    },
    {
     "cell_type": "heading",
     "level": 2,
     "metadata": {
      "slideshow": {
       "slide_type": "slide"
      }
     },
     "source": [
      "Conclusion"
     ]
    },
    {
     "cell_type": "markdown",
     "metadata": {
      "slideshow": {
       "slide_type": "subslide"
      }
     },
     "source": [
      "As a computer based encryption scheme, Solitaire isn't all that useful. However, it is honest to goodness strong encryption that only requires a deck of cards and some patience. "
     ]
    }
   ],
   "metadata": {}
  }
 ]
}